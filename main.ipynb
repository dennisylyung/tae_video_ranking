{
 "cells": [
  {
   "cell_type": "code",
   "execution_count": 31,
   "metadata": {
    "collapsed": true
   },
   "outputs": [],
   "source": [
    "import choix\n",
    "import math\n",
    "import pandas as pd"
   ]
  },
  {
   "cell_type": "code",
   "execution_count": 36,
   "outputs": [],
   "source": [
    "# read pairwise comparison data\n",
    "data = pd.read_csv('best_vid_apr.csv', index_col=0)\n",
    "data = data.fillna(0)"
   ],
   "metadata": {
    "collapsed": false,
    "pycharm": {
     "name": "#%%\n"
    }
   }
  },
  {
   "cell_type": "code",
   "execution_count": 37,
   "outputs": [
    {
     "data": {
      "text/plain": "              冰島灘鼓龍  IG朋友(上集)  IG朋友(下集)  殺手豪大戰面盲保安     無糧藥廠  Channel需要s  \\\n冰島灘鼓龍           0.0       0.0    8574.0        0.0      0.0         0.0   \nIG朋友(上集)        0.0       0.0   15248.0        0.0      0.0         0.0   \nIG朋友(下集)    28032.0   21495.0       0.0    29085.0      0.0      4000.0   \n殺手豪大戰面盲保安       0.0       0.0    5927.0        0.0  20557.0         0.0   \n無糧藥廠            0.0       0.0       0.0    11873.0      0.0         0.0   \nChannel需要s      0.0       0.0    6000.0        0.0      0.0         0.0   \n表妹, 你好嘢!        0.0       0.0       0.0        0.0      0.0      3626.0   \n跌嘢唔好搵           0.0       0.0       0.0        0.0      0.0     13075.0   \n點解你會喺到?         0.0       0.0       0.0        0.0      0.0         0.0   \n\n            表妹, 你好嘢!    跌嘢唔好搵  點解你會喺到?  \n冰島灘鼓龍            0.0      0.0      0.0  \nIG朋友(上集)         0.0      0.0      0.0  \nIG朋友(下集)         0.0      0.0      0.0  \n殺手豪大戰面盲保安        0.0      0.0      0.0  \n無糧藥廠             0.0      0.0      0.0  \nChannel需要s   32056.0  24781.0      0.0  \n表妹, 你好嘢!         0.0      0.0      0.0  \n跌嘢唔好搵            0.0      0.0  26107.0  \n點解你會喺到?          0.0   8867.0      0.0  ",
      "text/html": "<div>\n<style scoped>\n    .dataframe tbody tr th:only-of-type {\n        vertical-align: middle;\n    }\n\n    .dataframe tbody tr th {\n        vertical-align: top;\n    }\n\n    .dataframe thead th {\n        text-align: right;\n    }\n</style>\n<table border=\"1\" class=\"dataframe\">\n  <thead>\n    <tr style=\"text-align: right;\">\n      <th></th>\n      <th>冰島灘鼓龍</th>\n      <th>IG朋友(上集)</th>\n      <th>IG朋友(下集)</th>\n      <th>殺手豪大戰面盲保安</th>\n      <th>無糧藥廠</th>\n      <th>Channel需要s</th>\n      <th>表妹, 你好嘢!</th>\n      <th>跌嘢唔好搵</th>\n      <th>點解你會喺到?</th>\n    </tr>\n  </thead>\n  <tbody>\n    <tr>\n      <th>冰島灘鼓龍</th>\n      <td>0.0</td>\n      <td>0.0</td>\n      <td>8574.0</td>\n      <td>0.0</td>\n      <td>0.0</td>\n      <td>0.0</td>\n      <td>0.0</td>\n      <td>0.0</td>\n      <td>0.0</td>\n    </tr>\n    <tr>\n      <th>IG朋友(上集)</th>\n      <td>0.0</td>\n      <td>0.0</td>\n      <td>15248.0</td>\n      <td>0.0</td>\n      <td>0.0</td>\n      <td>0.0</td>\n      <td>0.0</td>\n      <td>0.0</td>\n      <td>0.0</td>\n    </tr>\n    <tr>\n      <th>IG朋友(下集)</th>\n      <td>28032.0</td>\n      <td>21495.0</td>\n      <td>0.0</td>\n      <td>29085.0</td>\n      <td>0.0</td>\n      <td>4000.0</td>\n      <td>0.0</td>\n      <td>0.0</td>\n      <td>0.0</td>\n    </tr>\n    <tr>\n      <th>殺手豪大戰面盲保安</th>\n      <td>0.0</td>\n      <td>0.0</td>\n      <td>5927.0</td>\n      <td>0.0</td>\n      <td>20557.0</td>\n      <td>0.0</td>\n      <td>0.0</td>\n      <td>0.0</td>\n      <td>0.0</td>\n    </tr>\n    <tr>\n      <th>無糧藥廠</th>\n      <td>0.0</td>\n      <td>0.0</td>\n      <td>0.0</td>\n      <td>11873.0</td>\n      <td>0.0</td>\n      <td>0.0</td>\n      <td>0.0</td>\n      <td>0.0</td>\n      <td>0.0</td>\n    </tr>\n    <tr>\n      <th>Channel需要s</th>\n      <td>0.0</td>\n      <td>0.0</td>\n      <td>6000.0</td>\n      <td>0.0</td>\n      <td>0.0</td>\n      <td>0.0</td>\n      <td>32056.0</td>\n      <td>24781.0</td>\n      <td>0.0</td>\n    </tr>\n    <tr>\n      <th>表妹, 你好嘢!</th>\n      <td>0.0</td>\n      <td>0.0</td>\n      <td>0.0</td>\n      <td>0.0</td>\n      <td>0.0</td>\n      <td>3626.0</td>\n      <td>0.0</td>\n      <td>0.0</td>\n      <td>0.0</td>\n    </tr>\n    <tr>\n      <th>跌嘢唔好搵</th>\n      <td>0.0</td>\n      <td>0.0</td>\n      <td>0.0</td>\n      <td>0.0</td>\n      <td>0.0</td>\n      <td>13075.0</td>\n      <td>0.0</td>\n      <td>0.0</td>\n      <td>26107.0</td>\n    </tr>\n    <tr>\n      <th>點解你會喺到?</th>\n      <td>0.0</td>\n      <td>0.0</td>\n      <td>0.0</td>\n      <td>0.0</td>\n      <td>0.0</td>\n      <td>0.0</td>\n      <td>0.0</td>\n      <td>8867.0</td>\n      <td>0.0</td>\n    </tr>\n  </tbody>\n</table>\n</div>"
     },
     "execution_count": 37,
     "metadata": {},
     "output_type": "execute_result"
    }
   ],
   "source": [
    "# inspect data\n",
    "data"
   ],
   "metadata": {
    "collapsed": false,
    "pycharm": {
     "name": "#%%\n"
    }
   }
  },
  {
   "cell_type": "code",
   "execution_count": 38,
   "outputs": [],
   "source": [
    "# fit Bradley–Terry model\n",
    "params = choix.lsr_pairwise_dense(data.to_numpy())"
   ],
   "metadata": {
    "collapsed": false,
    "pycharm": {
     "name": "#%%\n"
    }
   }
  },
  {
   "cell_type": "code",
   "execution_count": 39,
   "outputs": [
    {
     "name": "stdout",
     "output_type": "stream",
     "text": [
      "Channel需要s: 78.8\n",
      "IG朋友(下集): 71.3\n",
      "跌嘢唔好搵: 66.2\n",
      "IG朋友(上集): 63.8\n",
      "冰島灘鼓龍: 43.1\n",
      "點解你會喺到?: 40.0\n",
      "殺手豪大戰面盲保安: 33.6\n",
      "表妹, 你好嘢!: 29.6\n",
      "無糧藥廠: 22.6\n"
     ]
    }
   ],
   "source": [
    "# print results from highest to lowest popularity\n",
    "for title, score in sorted(zip(data.index.values, params), key=lambda r: r[1], reverse=True):\n",
    "    # Since the model uses softmax, apply a logistic transform here to get intuitive scores\n",
    "    print(f'{title}: {100 / (1 + math.exp(-score)):.1f}')"
   ],
   "metadata": {
    "collapsed": false,
    "pycharm": {
     "name": "#%%\n"
    }
   }
  },
  {
   "cell_type": "code",
   "execution_count": 35,
   "outputs": [],
   "source": [],
   "metadata": {
    "collapsed": false,
    "pycharm": {
     "name": "#%%\n"
    }
   }
  },
  {
   "cell_type": "code",
   "execution_count": null,
   "outputs": [],
   "source": [],
   "metadata": {
    "collapsed": false,
    "pycharm": {
     "name": "#%%\n"
    }
   }
  },
  {
   "cell_type": "code",
   "execution_count": null,
   "outputs": [],
   "source": [],
   "metadata": {
    "collapsed": false,
    "pycharm": {
     "name": "#%%\n"
    }
   }
  },
  {
   "cell_type": "code",
   "execution_count": null,
   "outputs": [],
   "source": [],
   "metadata": {
    "collapsed": false,
    "pycharm": {
     "name": "#%%\n"
    }
   }
  },
  {
   "cell_type": "code",
   "execution_count": null,
   "outputs": [],
   "source": [],
   "metadata": {
    "collapsed": false,
    "pycharm": {
     "name": "#%%\n"
    }
   }
  },
  {
   "cell_type": "code",
   "execution_count": null,
   "outputs": [],
   "source": [],
   "metadata": {
    "collapsed": false,
    "pycharm": {
     "name": "#%%\n"
    }
   }
  },
  {
   "cell_type": "code",
   "execution_count": null,
   "outputs": [],
   "source": [],
   "metadata": {
    "collapsed": false,
    "pycharm": {
     "name": "#%%\n"
    }
   }
  }
 ],
 "metadata": {
  "kernelspec": {
   "display_name": "Python 3",
   "language": "python",
   "name": "python3"
  },
  "language_info": {
   "codemirror_mode": {
    "name": "ipython",
    "version": 2
   },
   "file_extension": ".py",
   "mimetype": "text/x-python",
   "name": "python",
   "nbconvert_exporter": "python",
   "pygments_lexer": "ipython2",
   "version": "2.7.6"
  }
 },
 "nbformat": 4,
 "nbformat_minor": 0
}